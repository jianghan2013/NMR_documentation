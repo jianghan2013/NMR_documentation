{
 "cells": [
  {
   "cell_type": "code",
   "execution_count": 1,
   "metadata": {
    "collapsed": true
   },
   "outputs": [],
   "source": [
    "import numpy as np"
   ]
  },
  {
   "cell_type": "code",
   "execution_count": 5,
   "metadata": {},
   "outputs": [],
   "source": [
    "class Core(object):\n",
    "    def __ini__(filename, SampleName = 'u', RockType = 'u', UseGITNMRPorsity = True, SampleVolume = 'u', \n",
    "                TimeCutoff = 1e6, PhaseTimeCutoff = 500, DecimateFactor = 1, UseWindowPowerAveraging = False, \n",
    "                NWindows = 100, ScalingExponent = 2, AveragingThreshold = 3):\n",
    "        \"\"\"\n",
    "\n",
    "        Args:\n",
    "            SampleName: str, The name of the sample \n",
    "            RockType: str, The name of the rock\n",
    "            UseGITNMRPorsity: bool, use the GIT porosity or not, True(default) \n",
    "            SampleVolume, str, \n",
    "            TimeCutoff: float, Cutoff time when calcualte S and Noise. \n",
    "            PhaseTimeCutoff: float, Cutoff time to get phase angle.\n",
    "            DecimateFactor: int, \n",
    "            UseWindowPowerAveraging: bool,\n",
    "            NWindows: int, \n",
    "            ScalingExponent: int,  \n",
    "            AveragingThreshold: int, \n",
    "\n",
    "        \"\"\"\n",
    "        pass"
   ]
  },
  {
   "cell_type": "code",
   "execution_count": 9,
   "metadata": {},
   "outputs": [],
   "source": [
    "def LoadRawData(filename = None, TimeCutoff = 1e10, PhaseTimeCutoff = 500, DecimateFactor = 1,\n",
    "                UseWindowPowerAveraging = False, NWindows = 100, ScalingExponent = 2, AveragingThreshold = 3):\n",
    "    \"\"\"\n",
    "\n",
    "    Returns:\n",
    "        out: dict, contain data parameters and signal/ noise\n",
    "            out.phase: float, phase angle\n",
    "            out.NMRVolume: float, NMR volume of the sample\n",
    "            out.NMRPorosity: float, NMR porosity of the sample\n",
    "            out.dim: dict, some dimension parameters\n",
    "            out.data: dict, contain all measured data\n",
    "                out.data.y: 1D array data(T1and T2) or empty list (T2)\n",
    "                out.data.time: 1D array data\n",
    "                out.data.S, 1D array data, the signal of the measurements\n",
    "                out.data.Noise, 1D array data, Noise of the measurements\n",
    "                out.data.Mr, 1D array data, magnetic magnitude in real direction\n",
    "                out.data.Mi, 1D array data. magnetric magnitude in imaginary direction\n",
    "            \n",
    "            \n",
    "    \"\"\"\n",
    "    \n",
    "    # read the file\n",
    "    Npoints = 9434 # Npoints: int, number of row in time series. \n",
    "    NumberPointsPerEcho = 8 # NumberPointsPerEcho: int, 8, number of points per echo\n",
    "    NumberDimensions = 1  # NumberDimensions: int, 1 for T2 only, 2 for T1 and T2 mapping\n",
    "    y = [] # y: 1D array shape like (9434,), only has value when T1 and T2 mapping\n",
    "    if NumberDimensions == 1:\n",
    "        NColumns = 1+ 2*NumberPointsPerEcho # NColumns: int, total column numbers of the raw data\n",
    "        rawdata = np.zeros_like((Ncolumns,Npoints)) # read the data \n",
    "        rawdata = rawdata.T # the raw data is store in (n_col,n_row) and needed to be rorated\n",
    "    \n",
    "    \"\"\"Calculate Mi,Mr,time, y(only in T1 and T2) \"\"\"\n",
    "    \n",
    "        # Mr mean magnetic value in x plane/ real plane, Mi mean magnetic value in y/ imaginary plane, \n",
    "        \n",
    "        # if only T2, rawdata looks like\n",
    "        # col1 is the index, even cols like col2,col4,... col16 are Mr data\n",
    "        # odd cols like col3,col5,...col17 are Mi data.\n",
    "        #     col1, col2, col3, col4, col5, ... col17\n",
    "        #     time  Mr(1) Mi(1),Mr(2),Mi(2) ... Mi(8)\n",
    "        \n",
    "        # if T1 and T2, rawdata looks like\n",
    "        #     col1, col2, col3, col4, col5,  ... col17, col18\n",
    "        #     time, T1,   Mr(1) Mi(1),Mr(2), ... Mr(8), Mi(8)  \n",
    "        \n",
    "        # Mr: 1D array with shape to be (Npoint,)\n",
    "        # Mi: 1D array with shape to be (Npoint,)\n",
    "\n",
    "        # Mr = np.mean(Mr, axis=1) # average along col, average for every time points\n",
    "        # Mi = np.mean(Mi, axis=1) \n",
    "        # time = rawdata[:][0] \n",
    "        # y = rawdata[:][1]\n",
    "    \"\"\" Calculate phase(angle) \"\"\"\n",
    "    \n",
    "        # itime: array of bool, true when time[i] < PhaseTimeCutoff\n",
    "        # MrPhase = Mr(itime)\n",
    "        # MiPhase = Mi(itime)\n",
    "        # phase = atan ( sum of MiPhase/ sum of MrPhase)\n",
    "        \n",
    "    \"\"\" Apply phase(angle) to get S(signal) and Noise  \"\"\"\n",
    "   \n",
    "        # itime = time[:][time<TimeCutOff]\n",
    "        # Mr = Mr(itime)\n",
    "        # Mr = Mr(itime)\n",
    "        # S = Mr*cos(phase) + Mi*sin(phase): S, 1D array like \n",
    "        # Noise = -Mr*sin(phase) + Mi*cos(phase)\n",
    "        # \n",
    "    \"\"\" Get nmrvolume/ nmrposity from file \"\"\"\n",
    "    \"\"\" Get Calibration factor from file, *(-calibration) to signal and noise\"\"\"\n",
    "    \n",
    "    "
   ]
  },
  {
   "cell_type": "code",
   "execution_count": null,
   "metadata": {
    "collapsed": true
   },
   "outputs": [],
   "source": []
  }
 ],
 "metadata": {
  "anaconda-cloud": {},
  "kernelspec": {
   "display_name": "Python [Root]",
   "language": "python",
   "name": "Python [Root]"
  },
  "language_info": {
   "codemirror_mode": {
    "name": "ipython",
    "version": 3
   },
   "file_extension": ".py",
   "mimetype": "text/x-python",
   "name": "python",
   "nbconvert_exporter": "python",
   "pygments_lexer": "ipython3",
   "version": "3.5.2"
  }
 },
 "nbformat": 4,
 "nbformat_minor": 1
}
